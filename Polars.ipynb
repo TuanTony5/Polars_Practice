{
 "cells": [
  {
   "cell_type": "markdown",
   "metadata": {},
   "source": [
    "<h1> Polars: Faster than Pandas <h1>"
   ]
  },
  {
   "cell_type": "code",
   "execution_count": 24,
   "metadata": {},
   "outputs": [],
   "source": [
    "# pip install polars\n",
    "import polars as pl "
   ]
  },
  {
   "cell_type": "code",
   "execution_count": 25,
   "metadata": {},
   "outputs": [
    {
     "data": {
      "text/html": [
       "<div><style>\n",
       ".dataframe > thead > tr,\n",
       ".dataframe > tbody > tr {\n",
       "  text-align: right;\n",
       "  white-space: pre-wrap;\n",
       "}\n",
       "</style>\n",
       "<small>shape: (3, 4)</small><table border=\"1\" class=\"dataframe\"><thead><tr><th>Interger</th><th>Name</th><th>Date</th><th>Mark</th></tr><tr><td>i64</td><td>str</td><td>datetime[μs]</td><td>i64</td></tr></thead><tbody><tr><td>1</td><td>&quot;Linh&quot;</td><td>2004-03-20 00:00:00</td><td>6</td></tr><tr><td>2</td><td>&quot;Binh&quot;</td><td>2007-02-18 00:00:00</td><td>7</td></tr><tr><td>3</td><td>&quot;Thu&quot;</td><td>2005-11-29 00:00:00</td><td>8</td></tr></tbody></table></div>"
      ],
      "text/plain": [
       "shape: (3, 4)\n",
       "┌──────────┬──────┬─────────────────────┬──────┐\n",
       "│ Interger ┆ Name ┆ Date                ┆ Mark │\n",
       "│ ---      ┆ ---  ┆ ---                 ┆ ---  │\n",
       "│ i64      ┆ str  ┆ datetime[μs]        ┆ i64  │\n",
       "╞══════════╪══════╪═════════════════════╪══════╡\n",
       "│ 1        ┆ Linh ┆ 2004-03-20 00:00:00 ┆ 6    │\n",
       "│ 2        ┆ Binh ┆ 2007-02-18 00:00:00 ┆ 7    │\n",
       "│ 3        ┆ Thu  ┆ 2005-11-29 00:00:00 ┆ 8    │\n",
       "└──────────┴──────┴─────────────────────┴──────┘"
      ]
     },
     "execution_count": 25,
     "metadata": {},
     "output_type": "execute_result"
    }
   ],
   "source": [
    "# Create DataFrame\n",
    "from datetime import*\n",
    "timedf = pl.DataFrame(\n",
    "    {\n",
    "        \"Interger\" : [1,2,3],\n",
    "        \"Name\": ['Linh','Binh','Thu'],\n",
    "        'Date': [\n",
    "                datetime(2004,3,20),\n",
    "                datetime(2007,2,18),\n",
    "                datetime(2005,11,29)\n",
    "        ],\n",
    "        'Mark': [6,7,8]\n",
    "    }\n",
    ")\n",
    "timedf"
   ]
  },
  {
   "cell_type": "code",
   "execution_count": 26,
   "metadata": {},
   "outputs": [
    {
     "data": {
      "text/html": [
       "<div><style>\n",
       ".dataframe > thead > tr,\n",
       ".dataframe > tbody > tr {\n",
       "  text-align: right;\n",
       "  white-space: pre-wrap;\n",
       "}\n",
       "</style>\n",
       "<small>shape: (4_001, 9)</small><table border=\"1\" class=\"dataframe\"><thead><tr><th>A_id</th><th>Size</th><th>Weight</th><th>Sweetness</th><th>Crunchiness</th><th>Juiciness</th><th>Ripeness</th><th>Acidity</th><th>Quality</th></tr><tr><td>i64</td><td>f64</td><td>f64</td><td>f64</td><td>f64</td><td>f64</td><td>f64</td><td>f64</td><td>str</td></tr></thead><tbody><tr><td>0</td><td>-3.970049</td><td>-2.512336</td><td>5.34633</td><td>-1.012009</td><td>1.8449</td><td>0.32984</td><td>-0.49159</td><td>&quot;good&quot;</td></tr><tr><td>1</td><td>-1.195217</td><td>-2.839257</td><td>3.664059</td><td>1.588232</td><td>0.853286</td><td>0.86753</td><td>-0.722809</td><td>&quot;good&quot;</td></tr><tr><td>2</td><td>-0.292024</td><td>-1.351282</td><td>-1.738429</td><td>-0.342616</td><td>2.838636</td><td>-0.038033</td><td>2.621636</td><td>&quot;bad&quot;</td></tr><tr><td>3</td><td>-0.657196</td><td>-2.271627</td><td>1.324874</td><td>-0.097875</td><td>3.63797</td><td>-3.413761</td><td>0.790723</td><td>&quot;good&quot;</td></tr><tr><td>4</td><td>1.364217</td><td>-1.296612</td><td>-0.384658</td><td>-0.553006</td><td>3.030874</td><td>-1.303849</td><td>0.501984</td><td>&quot;good&quot;</td></tr><tr><td>5</td><td>-3.4254</td><td>-1.409082</td><td>-1.913511</td><td>-0.555775</td><td>-3.853071</td><td>1.914616</td><td>-2.981523</td><td>&quot;bad&quot;</td></tr><tr><td>6</td><td>1.331606</td><td>1.635956</td><td>0.875974</td><td>-1.677798</td><td>3.106344</td><td>-1.847417</td><td>2.414171</td><td>&quot;good&quot;</td></tr><tr><td>7</td><td>-1.995462</td><td>-0.428958</td><td>1.530644</td><td>-0.742972</td><td>0.158834</td><td>0.974438</td><td>-1.470125</td><td>&quot;good&quot;</td></tr><tr><td>8</td><td>-3.867632</td><td>-3.734514</td><td>0.986429</td><td>-1.207655</td><td>2.292873</td><td>4.080921</td><td>-4.871905</td><td>&quot;bad&quot;</td></tr><tr><td>9</td><td>-0.727983</td><td>-0.44282</td><td>-4.092223</td><td>0.597513</td><td>0.393714</td><td>1.620857</td><td>2.185608</td><td>&quot;bad&quot;</td></tr><tr><td>10</td><td>-2.699336</td><td>-1.329507</td><td>-1.418507</td><td>-0.625546</td><td>2.371074</td><td>3.403165</td><td>-2.810808</td><td>&quot;bad&quot;</td></tr><tr><td>11</td><td>2.45096</td><td>-0.564177</td><td>-1.635041</td><td>0.9424</td><td>-2.087317</td><td>1.214322</td><td>1.294324</td><td>&quot;good&quot;</td></tr><tr><td>&hellip;</td><td>&hellip;</td><td>&hellip;</td><td>&hellip;</td><td>&hellip;</td><td>&hellip;</td><td>&hellip;</td><td>&hellip;</td><td>&hellip;</td></tr><tr><td>3989</td><td>-2.282625</td><td>-0.225517</td><td>-1.698524</td><td>0.936855</td><td>-1.385481</td><td>3.249894</td><td>1.047021</td><td>&quot;bad&quot;</td></tr><tr><td>3990</td><td>-1.396794</td><td>-0.599596</td><td>-1.931104</td><td>1.815668</td><td>1.670732</td><td>1.614027</td><td>-0.987968</td><td>&quot;bad&quot;</td></tr><tr><td>3991</td><td>-4.007762</td><td>2.970164</td><td>0.218167</td><td>-0.492369</td><td>1.656375</td><td>-2.133895</td><td>-4.431321</td><td>&quot;good&quot;</td></tr><tr><td>3992</td><td>1.764253</td><td>-2.079695</td><td>-0.083383</td><td>-0.086724</td><td>-1.703385</td><td>3.840101</td><td>-0.338261</td><td>&quot;good&quot;</td></tr><tr><td>3993</td><td>1.520142</td><td>-0.352623</td><td>-3.206467</td><td>1.341719</td><td>0.675568</td><td>0.107093</td><td>-0.94508</td><td>&quot;bad&quot;</td></tr><tr><td>3994</td><td>1.482508</td><td>-2.581181</td><td>-0.306888</td><td>1.527877</td><td>1.056361</td><td>2.560829</td><td>-1.229255</td><td>&quot;good&quot;</td></tr><tr><td>3995</td><td>0.059386</td><td>-1.067408</td><td>-3.714549</td><td>0.473052</td><td>1.697986</td><td>2.244055</td><td>0.137784</td><td>&quot;bad&quot;</td></tr><tr><td>3996</td><td>-0.293118</td><td>1.949253</td><td>-0.20402</td><td>-0.640196</td><td>0.024523</td><td>-1.0879</td><td>1.854235</td><td>&quot;good&quot;</td></tr><tr><td>3997</td><td>-2.634515</td><td>-2.138247</td><td>-2.440461</td><td>0.657223</td><td>2.199709</td><td>4.763859</td><td>-1.334611</td><td>&quot;bad&quot;</td></tr><tr><td>3998</td><td>-4.008004</td><td>-1.779337</td><td>2.366397</td><td>-0.200329</td><td>2.161435</td><td>0.214488</td><td>-2.22972</td><td>&quot;good&quot;</td></tr><tr><td>3999</td><td>0.27854</td><td>-1.715505</td><td>0.121217</td><td>-1.154075</td><td>1.2666774</td><td>-0.776571</td><td>1.599796</td><td>&quot;good&quot;</td></tr><tr><td>null</td><td>null</td><td>null</td><td>null</td><td>null</td><td>null</td><td>null</td><td>null</td><td>null</td></tr></tbody></table></div>"
      ],
      "text/plain": [
       "shape: (4_001, 9)\n",
       "┌──────┬───────────┬───────────┬───────────┬───┬───────────┬───────────┬───────────┬─────────┐\n",
       "│ A_id ┆ Size      ┆ Weight    ┆ Sweetness ┆ … ┆ Juiciness ┆ Ripeness  ┆ Acidity   ┆ Quality │\n",
       "│ ---  ┆ ---       ┆ ---       ┆ ---       ┆   ┆ ---       ┆ ---       ┆ ---       ┆ ---     │\n",
       "│ i64  ┆ f64       ┆ f64       ┆ f64       ┆   ┆ f64       ┆ f64       ┆ f64       ┆ str     │\n",
       "╞══════╪═══════════╪═══════════╪═══════════╪═══╪═══════════╪═══════════╪═══════════╪═════════╡\n",
       "│ 0    ┆ -3.970049 ┆ -2.512336 ┆ 5.34633   ┆ … ┆ 1.8449    ┆ 0.32984   ┆ -0.49159  ┆ good    │\n",
       "│ 1    ┆ -1.195217 ┆ -2.839257 ┆ 3.664059  ┆ … ┆ 0.853286  ┆ 0.86753   ┆ -0.722809 ┆ good    │\n",
       "│ 2    ┆ -0.292024 ┆ -1.351282 ┆ -1.738429 ┆ … ┆ 2.838636  ┆ -0.038033 ┆ 2.621636  ┆ bad     │\n",
       "│ 3    ┆ -0.657196 ┆ -2.271627 ┆ 1.324874  ┆ … ┆ 3.63797   ┆ -3.413761 ┆ 0.790723  ┆ good    │\n",
       "│ 4    ┆ 1.364217  ┆ -1.296612 ┆ -0.384658 ┆ … ┆ 3.030874  ┆ -1.303849 ┆ 0.501984  ┆ good    │\n",
       "│ …    ┆ …         ┆ …         ┆ …         ┆ … ┆ …         ┆ …         ┆ …         ┆ …       │\n",
       "│ 3996 ┆ -0.293118 ┆ 1.949253  ┆ -0.20402  ┆ … ┆ 0.024523  ┆ -1.0879   ┆ 1.854235  ┆ good    │\n",
       "│ 3997 ┆ -2.634515 ┆ -2.138247 ┆ -2.440461 ┆ … ┆ 2.199709  ┆ 4.763859  ┆ -1.334611 ┆ bad     │\n",
       "│ 3998 ┆ -4.008004 ┆ -1.779337 ┆ 2.366397  ┆ … ┆ 2.161435  ┆ 0.214488  ┆ -2.22972  ┆ good    │\n",
       "│ 3999 ┆ 0.27854   ┆ -1.715505 ┆ 0.121217  ┆ … ┆ 1.2666774 ┆ -0.776571 ┆ 1.599796  ┆ good    │\n",
       "│ null ┆ null      ┆ null      ┆ null      ┆ … ┆ null      ┆ null      ┆ null      ┆ null    │\n",
       "└──────┴───────────┴───────────┴───────────┴───┴───────────┴───────────┴───────────┴─────────┘"
      ]
     },
     "execution_count": 26,
     "metadata": {},
     "output_type": "execute_result"
    }
   ],
   "source": [
    "# Read file csv\n",
    "df = pl.read_csv(\"./apple_quality.csv\",ignore_errors = True,has_header=True)\n",
    "# Read file parquet\n",
    "pq = pl.read_parquet(\"./exam.parquet\",columns=['Name','Mark'])\n",
    "df"
   ]
  },
  {
   "cell_type": "markdown",
   "metadata": {},
   "source": [
    "<h1> Expression :<h1> \n",
    " select, filter, with_columns, group_by"
   ]
  },
  {
   "cell_type": "code",
   "execution_count": 27,
   "metadata": {},
   "outputs": [
    {
     "data": {
      "text/html": [
       "<div><style>\n",
       ".dataframe > thead > tr,\n",
       ".dataframe > tbody > tr {\n",
       "  text-align: right;\n",
       "  white-space: pre-wrap;\n",
       "}\n",
       "</style>\n",
       "<small>shape: (2, 9)</small><table border=\"1\" class=\"dataframe\"><thead><tr><th>A_id</th><th>Size</th><th>Weight</th><th>Sweetness</th><th>Crunchiness</th><th>Juiciness</th><th>Ripeness</th><th>Acidity</th><th>Quality</th></tr><tr><td>i64</td><td>f64</td><td>f64</td><td>f64</td><td>f64</td><td>f64</td><td>f64</td><td>f64</td><td>str</td></tr></thead><tbody><tr><td>3999</td><td>0.27854</td><td>-1.715505</td><td>0.121217</td><td>-1.154075</td><td>1.2666774</td><td>-0.776571</td><td>1.599796</td><td>&quot;good&quot;</td></tr><tr><td>null</td><td>null</td><td>null</td><td>null</td><td>null</td><td>null</td><td>null</td><td>null</td><td>null</td></tr></tbody></table></div>"
      ],
      "text/plain": [
       "shape: (2, 9)\n",
       "┌──────┬─────────┬───────────┬───────────┬───┬───────────┬───────────┬──────────┬─────────┐\n",
       "│ A_id ┆ Size    ┆ Weight    ┆ Sweetness ┆ … ┆ Juiciness ┆ Ripeness  ┆ Acidity  ┆ Quality │\n",
       "│ ---  ┆ ---     ┆ ---       ┆ ---       ┆   ┆ ---       ┆ ---       ┆ ---      ┆ ---     │\n",
       "│ i64  ┆ f64     ┆ f64       ┆ f64       ┆   ┆ f64       ┆ f64       ┆ f64      ┆ str     │\n",
       "╞══════╪═════════╪═══════════╪═══════════╪═══╪═══════════╪═══════════╪══════════╪═════════╡\n",
       "│ 3999 ┆ 0.27854 ┆ -1.715505 ┆ 0.121217  ┆ … ┆ 1.2666774 ┆ -0.776571 ┆ 1.599796 ┆ good    │\n",
       "│ null ┆ null    ┆ null      ┆ null      ┆ … ┆ null      ┆ null      ┆ null     ┆ null    │\n",
       "└──────┴─────────┴───────────┴───────────┴───┴───────────┴───────────┴──────────┴─────────┘"
      ]
     },
     "execution_count": 27,
     "metadata": {},
     "output_type": "execute_result"
    }
   ],
   "source": [
    "##  SELECT:\n",
    "# 1. Define the DataFrame we want the data from.\n",
    "# 2. Select the data that we need.\n",
    "df.select(pl.col(\"*\"))\n",
    "df.select(['Size','Weight'])\n",
    "\n",
    "# Select first and last row\n",
    "df.head(2)\n",
    "df.tail(2)"
   ]
  },
  {
   "cell_type": "code",
   "execution_count": 28,
   "metadata": {},
   "outputs": [
    {
     "data": {
      "text/html": [
       "<div><style>\n",
       ".dataframe > thead > tr,\n",
       ".dataframe > tbody > tr {\n",
       "  text-align: right;\n",
       "  white-space: pre-wrap;\n",
       "}\n",
       "</style>\n",
       "<small>shape: (400, 9)</small><table border=\"1\" class=\"dataframe\"><thead><tr><th>A_id</th><th>Size</th><th>Weight</th><th>Sweetness</th><th>Crunchiness</th><th>Juiciness</th><th>Ripeness</th><th>Acidity</th><th>Quality</th></tr><tr><td>i64</td><td>f64</td><td>f64</td><td>f64</td><td>f64</td><td>f64</td><td>f64</td><td>f64</td><td>str</td></tr></thead><tbody><tr><td>2516</td><td>-2.21562</td><td>-1.845715</td><td>-0.694316</td><td>1.961764</td><td>-0.309642</td><td>1.288382</td><td>3.104204</td><td>&quot;bad&quot;</td></tr><tr><td>2339</td><td>-3.049346</td><td>0.06711</td><td>1.741481</td><td>0.800206</td><td>1.128096</td><td>-0.948431</td><td>2.747654</td><td>&quot;bad&quot;</td></tr><tr><td>3388</td><td>-3.976065</td><td>1.51903</td><td>4.208563</td><td>2.346197</td><td>-1.68236</td><td>-3.427717</td><td>1.365204</td><td>&quot;bad&quot;</td></tr><tr><td>2250</td><td>-1.623184</td><td>-0.807008</td><td>-0.371444</td><td>0.431804</td><td>0.467251</td><td>1.74136</td><td>-0.836539</td><td>&quot;bad&quot;</td></tr><tr><td>2775</td><td>1.133206</td><td>0.851566</td><td>-0.442646</td><td>2.657962</td><td>-1.9265</td><td>-1.578244</td><td>2.430188</td><td>&quot;bad&quot;</td></tr><tr><td>717</td><td>0.337684</td><td>-0.412042</td><td>-0.2134</td><td>1.965745</td><td>0.272895</td><td>-1.855057</td><td>3.658487</td><td>&quot;bad&quot;</td></tr><tr><td>1812</td><td>-0.588239</td><td>-0.864688</td><td>-1.003672</td><td>2.568485</td><td>2.040795</td><td>0.162409</td><td>-1.720988</td><td>&quot;good&quot;</td></tr><tr><td>2445</td><td>0.543336</td><td>-0.662709</td><td>-1.286174</td><td>1.118483</td><td>1.237637</td><td>1.142694</td><td>-0.06402</td><td>&quot;bad&quot;</td></tr><tr><td>3238</td><td>-2.564935</td><td>-1.541681</td><td>1.628079</td><td>0.830584</td><td>1.628192</td><td>-0.573445</td><td>4.07202</td><td>&quot;bad&quot;</td></tr><tr><td>2640</td><td>-2.358588</td><td>1.643365</td><td>-2.162232</td><td>-0.288565</td><td>0.66195</td><td>2.513491</td><td>0.680344</td><td>&quot;bad&quot;</td></tr><tr><td>1717</td><td>0.083671</td><td>0.478029</td><td>-1.492261</td><td>0.117916</td><td>3.146014</td><td>-0.126918</td><td>-0.452404</td><td>&quot;bad&quot;</td></tr><tr><td>494</td><td>-2.025039</td><td>0.617575</td><td>-2.354572</td><td>0.551357</td><td>1.622998</td><td>2.483068</td><td>-0.155859</td><td>&quot;bad&quot;</td></tr><tr><td>&hellip;</td><td>&hellip;</td><td>&hellip;</td><td>&hellip;</td><td>&hellip;</td><td>&hellip;</td><td>&hellip;</td><td>&hellip;</td><td>&hellip;</td></tr><tr><td>3964</td><td>3.084649</td><td>-1.355232</td><td>-5.219217</td><td>0.288621</td><td>1.996598</td><td>0.708111</td><td>0.430274</td><td>&quot;bad&quot;</td></tr><tr><td>2055</td><td>-0.567317</td><td>3.332821</td><td>-4.557395</td><td>-1.008061</td><td>-1.190466</td><td>2.600116</td><td>-3.023189</td><td>&quot;good&quot;</td></tr><tr><td>913</td><td>-1.423471</td><td>-0.205004</td><td>-0.023427</td><td>1.218013</td><td>-3.133456</td><td>0.6313</td><td>1.367065</td><td>&quot;bad&quot;</td></tr><tr><td>1999</td><td>2.41562</td><td>-0.996883</td><td>-3.575636</td><td>-0.327394</td><td>4.083035</td><td>0.964865</td><td>-0.319051</td><td>&quot;bad&quot;</td></tr><tr><td>2309</td><td>3.456806</td><td>-2.700306</td><td>-2.153625</td><td>3.904197</td><td>2.859478</td><td>-1.006583</td><td>0.743703</td><td>&quot;good&quot;</td></tr><tr><td>1497</td><td>3.16601</td><td>0.955333</td><td>-1.767522</td><td>0.058884</td><td>-0.264385</td><td>-2.060988</td><td>-1.426639</td><td>&quot;bad&quot;</td></tr><tr><td>622</td><td>0.642459</td><td>-2.451569</td><td>-2.653792</td><td>-0.36493</td><td>3.615424</td><td>1.898301</td><td>1.327121</td><td>&quot;bad&quot;</td></tr><tr><td>125</td><td>-2.229106</td><td>-1.097256</td><td>3.589922</td><td>0.140222</td><td>1.563118</td><td>-0.161918</td><td>-1.335152</td><td>&quot;good&quot;</td></tr><tr><td>2324</td><td>0.156593</td><td>-1.777604</td><td>-3.742258</td><td>0.666825</td><td>1.465929</td><td>3.441336</td><td>0.266388</td><td>&quot;bad&quot;</td></tr><tr><td>1803</td><td>-0.42264</td><td>-2.981419</td><td>0.406089</td><td>1.851458</td><td>-0.510656</td><td>1.41985</td><td>-1.339717</td><td>&quot;bad&quot;</td></tr><tr><td>617</td><td>-1.206332</td><td>-0.304428</td><td>-0.551758</td><td>2.07196</td><td>-0.966434</td><td>2.151958</td><td>-0.84637</td><td>&quot;bad&quot;</td></tr><tr><td>469</td><td>-3.157805</td><td>-1.790545</td><td>1.532857</td><td>0.145359</td><td>2.537521</td><td>0.804341</td><td>1.692456</td><td>&quot;bad&quot;</td></tr></tbody></table></div>"
      ],
      "text/plain": [
       "shape: (400, 9)\n",
       "┌──────┬───────────┬───────────┬───────────┬───┬───────────┬───────────┬───────────┬─────────┐\n",
       "│ A_id ┆ Size      ┆ Weight    ┆ Sweetness ┆ … ┆ Juiciness ┆ Ripeness  ┆ Acidity   ┆ Quality │\n",
       "│ ---  ┆ ---       ┆ ---       ┆ ---       ┆   ┆ ---       ┆ ---       ┆ ---       ┆ ---     │\n",
       "│ i64  ┆ f64       ┆ f64       ┆ f64       ┆   ┆ f64       ┆ f64       ┆ f64       ┆ str     │\n",
       "╞══════╪═══════════╪═══════════╪═══════════╪═══╪═══════════╪═══════════╪═══════════╪═════════╡\n",
       "│ 2516 ┆ -2.21562  ┆ -1.845715 ┆ -0.694316 ┆ … ┆ -0.309642 ┆ 1.288382  ┆ 3.104204  ┆ bad     │\n",
       "│ 2339 ┆ -3.049346 ┆ 0.06711   ┆ 1.741481  ┆ … ┆ 1.128096  ┆ -0.948431 ┆ 2.747654  ┆ bad     │\n",
       "│ 3388 ┆ -3.976065 ┆ 1.51903   ┆ 4.208563  ┆ … ┆ -1.68236  ┆ -3.427717 ┆ 1.365204  ┆ bad     │\n",
       "│ 2250 ┆ -1.623184 ┆ -0.807008 ┆ -0.371444 ┆ … ┆ 0.467251  ┆ 1.74136   ┆ -0.836539 ┆ bad     │\n",
       "│ 2775 ┆ 1.133206  ┆ 0.851566  ┆ -0.442646 ┆ … ┆ -1.9265   ┆ -1.578244 ┆ 2.430188  ┆ bad     │\n",
       "│ …    ┆ …         ┆ …         ┆ …         ┆ … ┆ …         ┆ …         ┆ …         ┆ …       │\n",
       "│ 125  ┆ -2.229106 ┆ -1.097256 ┆ 3.589922  ┆ … ┆ 1.563118  ┆ -0.161918 ┆ -1.335152 ┆ good    │\n",
       "│ 2324 ┆ 0.156593  ┆ -1.777604 ┆ -3.742258 ┆ … ┆ 1.465929  ┆ 3.441336  ┆ 0.266388  ┆ bad     │\n",
       "│ 1803 ┆ -0.42264  ┆ -2.981419 ┆ 0.406089  ┆ … ┆ -0.510656 ┆ 1.41985   ┆ -1.339717 ┆ bad     │\n",
       "│ 617  ┆ -1.206332 ┆ -0.304428 ┆ -0.551758 ┆ … ┆ -0.966434 ┆ 2.151958  ┆ -0.84637  ┆ bad     │\n",
       "│ 469  ┆ -3.157805 ┆ -1.790545 ┆ 1.532857  ┆ … ┆ 2.537521  ┆ 0.804341  ┆ 1.692456  ┆ bad     │\n",
       "└──────┴───────────┴───────────┴───────────┴───┴───────────┴───────────┴───────────┴─────────┘"
      ]
     },
     "execution_count": 28,
     "metadata": {},
     "output_type": "execute_result"
    }
   ],
   "source": [
    "## Sample\n",
    "\n",
    "# Take a random sample\n",
    "df.sample(5)\n",
    "\n",
    "# Randomly select fraction of rows. \n",
    "df.sample(fraction=0.1) "
   ]
  },
  {
   "cell_type": "code",
   "execution_count": 29,
   "metadata": {},
   "outputs": [
    {
     "data": {
      "text/html": [
       "<div><style>\n",
       ".dataframe > thead > tr,\n",
       ".dataframe > tbody > tr {\n",
       "  text-align: right;\n",
       "  white-space: pre-wrap;\n",
       "}\n",
       "</style>\n",
       "<small>shape: (11, 9)</small><table border=\"1\" class=\"dataframe\"><thead><tr><th>A_id</th><th>Size</th><th>Weight</th><th>Sweetness</th><th>Crunchiness</th><th>Juiciness</th><th>Ripeness</th><th>Acidity</th><th>Quality</th></tr><tr><td>i64</td><td>f64</td><td>f64</td><td>f64</td><td>f64</td><td>f64</td><td>f64</td><td>f64</td><td>str</td></tr></thead><tbody><tr><td>247</td><td>-1.513437</td><td>5.149</td><td>-0.392047</td><td>3.678059</td><td>-1.582198</td><td>-3.871148</td><td>0.918079</td><td>&quot;good&quot;</td></tr><tr><td>276</td><td>-6.129668</td><td>4.738227</td><td>0.253477</td><td>-1.393228</td><td>1.964849</td><td>-3.410881</td><td>-5.015264</td><td>&quot;good&quot;</td></tr><tr><td>672</td><td>1.381278</td><td>4.363066</td><td>-2.569945</td><td>2.139035</td><td>-2.640239</td><td>-0.03434</td><td>0.242879</td><td>&quot;good&quot;</td></tr><tr><td>1446</td><td>1.119801</td><td>4.1513682</td><td>-1.699643</td><td>0.484084</td><td>-3.993199</td><td>0.854566</td><td>0.496347</td><td>&quot;good&quot;</td></tr><tr><td>2045</td><td>-0.596809</td><td>4.369571</td><td>0.181874</td><td>3.255675</td><td>-1.491297</td><td>-3.310057</td><td>2.728708</td><td>&quot;good&quot;</td></tr><tr><td>2106</td><td>-0.489237</td><td>4.093888</td><td>-0.117897</td><td>3.427268</td><td>-1.232981</td><td>-3.75972</td><td>-0.360763</td><td>&quot;good&quot;</td></tr><tr><td>2785</td><td>-3.342024</td><td>4.171361</td><td>-3.584313</td><td>-0.220927</td><td>0.219321</td><td>0.515195</td><td>-3.005136</td><td>&quot;good&quot;</td></tr><tr><td>2955</td><td>0.445244</td><td>4.099711</td><td>-0.390646</td><td>-1.43304</td><td>0.749228</td><td>-1.198482</td><td>0.897684</td><td>&quot;good&quot;</td></tr><tr><td>3080</td><td>-5.087387</td><td>5.014002</td><td>-1.652091</td><td>-1.025455</td><td>1.460314</td><td>-1.994076</td><td>-2.813449</td><td>&quot;good&quot;</td></tr><tr><td>3177</td><td>-2.954896</td><td>4.202643</td><td>-3.468046</td><td>-2.146075</td><td>-1.400879</td><td>1.096128</td><td>-1.679608</td><td>&quot;good&quot;</td></tr><tr><td>3923</td><td>-5.616711</td><td>5.790714</td><td>-1.243051</td><td>-0.505189</td><td>0.438719</td><td>-3.367809</td><td>-4.458431</td><td>&quot;good&quot;</td></tr></tbody></table></div>"
      ],
      "text/plain": [
       "shape: (11, 9)\n",
       "┌──────┬───────────┬───────────┬───────────┬───┬───────────┬───────────┬───────────┬─────────┐\n",
       "│ A_id ┆ Size      ┆ Weight    ┆ Sweetness ┆ … ┆ Juiciness ┆ Ripeness  ┆ Acidity   ┆ Quality │\n",
       "│ ---  ┆ ---       ┆ ---       ┆ ---       ┆   ┆ ---       ┆ ---       ┆ ---       ┆ ---     │\n",
       "│ i64  ┆ f64       ┆ f64       ┆ f64       ┆   ┆ f64       ┆ f64       ┆ f64       ┆ str     │\n",
       "╞══════╪═══════════╪═══════════╪═══════════╪═══╪═══════════╪═══════════╪═══════════╪═════════╡\n",
       "│ 247  ┆ -1.513437 ┆ 5.149     ┆ -0.392047 ┆ … ┆ -1.582198 ┆ -3.871148 ┆ 0.918079  ┆ good    │\n",
       "│ 276  ┆ -6.129668 ┆ 4.738227  ┆ 0.253477  ┆ … ┆ 1.964849  ┆ -3.410881 ┆ -5.015264 ┆ good    │\n",
       "│ 672  ┆ 1.381278  ┆ 4.363066  ┆ -2.569945 ┆ … ┆ -2.640239 ┆ -0.03434  ┆ 0.242879  ┆ good    │\n",
       "│ 1446 ┆ 1.119801  ┆ 4.1513682 ┆ -1.699643 ┆ … ┆ -3.993199 ┆ 0.854566  ┆ 0.496347  ┆ good    │\n",
       "│ 2045 ┆ -0.596809 ┆ 4.369571  ┆ 0.181874  ┆ … ┆ -1.491297 ┆ -3.310057 ┆ 2.728708  ┆ good    │\n",
       "│ 2106 ┆ -0.489237 ┆ 4.093888  ┆ -0.117897 ┆ … ┆ -1.232981 ┆ -3.75972  ┆ -0.360763 ┆ good    │\n",
       "│ 2785 ┆ -3.342024 ┆ 4.171361  ┆ -3.584313 ┆ … ┆ 0.219321  ┆ 0.515195  ┆ -3.005136 ┆ good    │\n",
       "│ 2955 ┆ 0.445244  ┆ 4.099711  ┆ -0.390646 ┆ … ┆ 0.749228  ┆ -1.198482 ┆ 0.897684  ┆ good    │\n",
       "│ 3080 ┆ -5.087387 ┆ 5.014002  ┆ -1.652091 ┆ … ┆ 1.460314  ┆ -1.994076 ┆ -2.813449 ┆ good    │\n",
       "│ 3177 ┆ -2.954896 ┆ 4.202643  ┆ -3.468046 ┆ … ┆ -1.400879 ┆ 1.096128  ┆ -1.679608 ┆ good    │\n",
       "│ 3923 ┆ -5.616711 ┆ 5.790714  ┆ -1.243051 ┆ … ┆ 0.438719  ┆ -3.367809 ┆ -4.458431 ┆ good    │\n",
       "└──────┴───────────┴───────────┴───────────┴───┴───────────┴───────────┴───────────┴─────────┘"
      ]
     },
     "execution_count": 29,
     "metadata": {},
     "output_type": "execute_result"
    }
   ],
   "source": [
    "## FILTER:\n",
    "# use to create subset\n",
    "# Filter: Extract rows that meet logical criteria\n",
    "df.filter(pl.col(\"Weight\")>=5)\n",
    "df.filter((pl.col(\"Weight\")>4) & (pl.col(\"Quality\")=='good'))"
   ]
  },
  {
   "cell_type": "code",
   "execution_count": 30,
   "metadata": {},
   "outputs": [
    {
     "data": {
      "text/html": [
       "<div><style>\n",
       ".dataframe > thead > tr,\n",
       ".dataframe > tbody > tr {\n",
       "  text-align: right;\n",
       "  white-space: pre-wrap;\n",
       "}\n",
       "</style>\n",
       "<small>shape: (5, 3)</small><table border=\"1\" class=\"dataframe\"><thead><tr><th>a</th><th>b</th><th>c</th></tr><tr><td>str</td><td>i64</td><td>i64</td></tr></thead><tbody><tr><td>&quot;a&quot;</td><td>1</td><td>5</td></tr><tr><td>&quot;b&quot;</td><td>2</td><td>4</td></tr><tr><td>&quot;a&quot;</td><td>1</td><td>3</td></tr><tr><td>&quot;b&quot;</td><td>3</td><td>2</td></tr><tr><td>&quot;c&quot;</td><td>3</td><td>1</td></tr></tbody></table></div>"
      ],
      "text/plain": [
       "shape: (5, 3)\n",
       "┌─────┬─────┬─────┐\n",
       "│ a   ┆ b   ┆ c   │\n",
       "│ --- ┆ --- ┆ --- │\n",
       "│ str ┆ i64 ┆ i64 │\n",
       "╞═════╪═════╪═════╡\n",
       "│ a   ┆ 1   ┆ 5   │\n",
       "│ b   ┆ 2   ┆ 4   │\n",
       "│ a   ┆ 1   ┆ 3   │\n",
       "│ b   ┆ 3   ┆ 2   │\n",
       "│ c   ┆ 3   ┆ 1   │\n",
       "└─────┴─────┴─────┘"
      ]
     },
     "execution_count": 30,
     "metadata": {},
     "output_type": "execute_result"
    }
   ],
   "source": [
    "## GROUP BY\n",
    "df2 = pl.DataFrame(\n",
    "    {\n",
    "        \"a\": [\"a\", \"b\", \"a\", \"b\", \"c\"],\n",
    "        \"b\": [1, 2, 1, 3, 3],\n",
    "        \"c\": [5, 4, 3, 2, 1],\n",
    "    }\n",
    ")\n",
    "df2.group_by(\"a\",maintain_order=True).len()\n",
    "df2.group_by(\"a\",maintain_order=True).agg(pl.col('b').sum().alias(\"Total_B\"),pl.col(\"c\").mean().alias(\"AVG_C\"))\n",
    "df2"
   ]
  },
  {
   "cell_type": "code",
   "execution_count": 31,
   "metadata": {},
   "outputs": [
    {
     "data": {
      "text/html": [
       "<div><style>\n",
       ".dataframe > thead > tr,\n",
       ".dataframe > tbody > tr {\n",
       "  text-align: right;\n",
       "  white-space: pre-wrap;\n",
       "}\n",
       "</style>\n",
       "<small>shape: (5, 7)</small><table border=\"1\" class=\"dataframe\"><thead><tr><th>index</th><th>a</th><th>b</th><th>c</th><th>C x 2</th><th>b+Cx2</th><th>Mean of b</th></tr><tr><td>u32</td><td>str</td><td>i64</td><td>i64</td><td>i64</td><td>i64</td><td>f64</td></tr></thead><tbody><tr><td>0</td><td>&quot;a&quot;</td><td>1</td><td>5</td><td>10</td><td>11</td><td>2.0</td></tr><tr><td>1</td><td>&quot;b&quot;</td><td>2</td><td>4</td><td>8</td><td>10</td><td>2.0</td></tr><tr><td>2</td><td>&quot;a&quot;</td><td>1</td><td>3</td><td>6</td><td>7</td><td>2.0</td></tr><tr><td>3</td><td>&quot;b&quot;</td><td>3</td><td>2</td><td>4</td><td>7</td><td>2.0</td></tr><tr><td>4</td><td>&quot;c&quot;</td><td>3</td><td>1</td><td>2</td><td>5</td><td>2.0</td></tr></tbody></table></div>"
      ],
      "text/plain": [
       "shape: (5, 7)\n",
       "┌───────┬─────┬─────┬─────┬───────┬───────┬───────────┐\n",
       "│ index ┆ a   ┆ b   ┆ c   ┆ C x 2 ┆ b+Cx2 ┆ Mean of b │\n",
       "│ ---   ┆ --- ┆ --- ┆ --- ┆ ---   ┆ ---   ┆ ---       │\n",
       "│ u32   ┆ str ┆ i64 ┆ i64 ┆ i64   ┆ i64   ┆ f64       │\n",
       "╞═══════╪═════╪═════╪═════╪═══════╪═══════╪═══════════╡\n",
       "│ 0     ┆ a   ┆ 1   ┆ 5   ┆ 10    ┆ 11    ┆ 2.0       │\n",
       "│ 1     ┆ b   ┆ 2   ┆ 4   ┆ 8     ┆ 10    ┆ 2.0       │\n",
       "│ 2     ┆ a   ┆ 1   ┆ 3   ┆ 6     ┆ 7     ┆ 2.0       │\n",
       "│ 3     ┆ b   ┆ 3   ┆ 2   ┆ 4     ┆ 7     ┆ 2.0       │\n",
       "│ 4     ┆ c   ┆ 3   ┆ 1   ┆ 2     ┆ 5     ┆ 2.0       │\n",
       "└───────┴─────┴─────┴─────┴───────┴───────┴───────────┘"
      ]
     },
     "execution_count": 31,
     "metadata": {},
     "output_type": "execute_result"
    }
   ],
   "source": [
    "## WITH COLUMNS\n",
    "# Adding new column\n",
    "# Create a new column and get in a new variable\n",
    "df3=df2.with_columns((pl.col('c')*2).alias(\"C x 2\"))\n",
    "\n",
    "# Create several columns\n",
    "df4=df3.with_columns(\n",
    "    [\n",
    "    ((pl.col('b')+pl.col('C x 2')).alias('b+Cx2')),\n",
    "    (pl.col('b').mean().alias(\"Mean of b\"))\n",
    "    ]\n",
    ")\n",
    "df4\n",
    "\n",
    "# Add a column to indexed the row\n",
    "df4.with_row_index()"
   ]
  },
  {
   "cell_type": "code",
   "execution_count": 32,
   "metadata": {},
   "outputs": [
    {
     "data": {
      "text/html": [
       "<div><style>\n",
       ".dataframe > thead > tr,\n",
       ".dataframe > tbody > tr {\n",
       "  text-align: right;\n",
       "  white-space: pre-wrap;\n",
       "}\n",
       "</style>\n",
       "<small>shape: (4_001, 9)</small><table border=\"1\" class=\"dataframe\"><thead><tr><th>A_id</th><th>Size</th><th>Weight</th><th>Sweetness</th><th>Crunchiness</th><th>Juiciness</th><th>Ripeness</th><th>Acidity</th><th>Quality</th></tr><tr><td>i64</td><td>f64</td><td>f64</td><td>f64</td><td>f64</td><td>f64</td><td>f64</td><td>f64</td><td>str</td></tr></thead><tbody><tr><td>0</td><td>-3.970049</td><td>-2.512336</td><td>5.34633</td><td>-1.012009</td><td>1.8449</td><td>0.32984</td><td>-0.49159</td><td>&quot;good&quot;</td></tr><tr><td>1</td><td>-1.195217</td><td>-2.839257</td><td>3.664059</td><td>1.588232</td><td>0.853286</td><td>0.86753</td><td>-0.722809</td><td>&quot;good&quot;</td></tr><tr><td>2</td><td>-0.292024</td><td>-1.351282</td><td>-1.738429</td><td>-0.342616</td><td>2.838636</td><td>-0.038033</td><td>2.621636</td><td>&quot;bad&quot;</td></tr><tr><td>3</td><td>-0.657196</td><td>-2.271627</td><td>1.324874</td><td>-0.097875</td><td>3.63797</td><td>-3.413761</td><td>0.790723</td><td>&quot;good&quot;</td></tr><tr><td>4</td><td>1.364217</td><td>-1.296612</td><td>-0.384658</td><td>-0.553006</td><td>3.030874</td><td>-1.303849</td><td>0.501984</td><td>&quot;good&quot;</td></tr><tr><td>5</td><td>-3.4254</td><td>-1.409082</td><td>-1.913511</td><td>-0.555775</td><td>-3.853071</td><td>1.914616</td><td>-2.981523</td><td>&quot;bad&quot;</td></tr><tr><td>6</td><td>1.331606</td><td>1.635956</td><td>0.875974</td><td>-1.677798</td><td>3.106344</td><td>-1.847417</td><td>2.414171</td><td>&quot;good&quot;</td></tr><tr><td>7</td><td>-1.995462</td><td>-0.428958</td><td>1.530644</td><td>-0.742972</td><td>0.158834</td><td>0.974438</td><td>-1.470125</td><td>&quot;good&quot;</td></tr><tr><td>8</td><td>-3.867632</td><td>-3.734514</td><td>0.986429</td><td>-1.207655</td><td>2.292873</td><td>4.080921</td><td>-4.871905</td><td>&quot;bad&quot;</td></tr><tr><td>9</td><td>-0.727983</td><td>-0.44282</td><td>-4.092223</td><td>0.597513</td><td>0.393714</td><td>1.620857</td><td>2.185608</td><td>&quot;bad&quot;</td></tr><tr><td>10</td><td>-2.699336</td><td>-1.329507</td><td>-1.418507</td><td>-0.625546</td><td>2.371074</td><td>3.403165</td><td>-2.810808</td><td>&quot;bad&quot;</td></tr><tr><td>11</td><td>2.45096</td><td>-0.564177</td><td>-1.635041</td><td>0.9424</td><td>-2.087317</td><td>1.214322</td><td>1.294324</td><td>&quot;good&quot;</td></tr><tr><td>&hellip;</td><td>&hellip;</td><td>&hellip;</td><td>&hellip;</td><td>&hellip;</td><td>&hellip;</td><td>&hellip;</td><td>&hellip;</td><td>&hellip;</td></tr><tr><td>3989</td><td>-2.282625</td><td>-0.225517</td><td>-1.698524</td><td>0.936855</td><td>-1.385481</td><td>3.249894</td><td>1.047021</td><td>&quot;bad&quot;</td></tr><tr><td>3990</td><td>-1.396794</td><td>-0.599596</td><td>-1.931104</td><td>1.815668</td><td>1.670732</td><td>1.614027</td><td>-0.987968</td><td>&quot;bad&quot;</td></tr><tr><td>3991</td><td>-4.007762</td><td>2.970164</td><td>0.218167</td><td>-0.492369</td><td>1.656375</td><td>-2.133895</td><td>-4.431321</td><td>&quot;good&quot;</td></tr><tr><td>3992</td><td>1.764253</td><td>-2.079695</td><td>-0.083383</td><td>-0.086724</td><td>-1.703385</td><td>3.840101</td><td>-0.338261</td><td>&quot;good&quot;</td></tr><tr><td>3993</td><td>1.520142</td><td>-0.352623</td><td>-3.206467</td><td>1.341719</td><td>0.675568</td><td>0.107093</td><td>-0.94508</td><td>&quot;bad&quot;</td></tr><tr><td>3994</td><td>1.482508</td><td>-2.581181</td><td>-0.306888</td><td>1.527877</td><td>1.056361</td><td>2.560829</td><td>-1.229255</td><td>&quot;good&quot;</td></tr><tr><td>3995</td><td>0.059386</td><td>-1.067408</td><td>-3.714549</td><td>0.473052</td><td>1.697986</td><td>2.244055</td><td>0.137784</td><td>&quot;bad&quot;</td></tr><tr><td>3996</td><td>-0.293118</td><td>1.949253</td><td>-0.20402</td><td>-0.640196</td><td>0.024523</td><td>-1.0879</td><td>1.854235</td><td>&quot;good&quot;</td></tr><tr><td>3997</td><td>-2.634515</td><td>-2.138247</td><td>-2.440461</td><td>0.657223</td><td>2.199709</td><td>4.763859</td><td>-1.334611</td><td>&quot;bad&quot;</td></tr><tr><td>3998</td><td>-4.008004</td><td>-1.779337</td><td>2.366397</td><td>-0.200329</td><td>2.161435</td><td>0.214488</td><td>-2.22972</td><td>&quot;good&quot;</td></tr><tr><td>3999</td><td>0.27854</td><td>-1.715505</td><td>0.121217</td><td>-1.154075</td><td>1.2666774</td><td>-0.776571</td><td>1.599796</td><td>&quot;good&quot;</td></tr><tr><td>null</td><td>null</td><td>null</td><td>null</td><td>null</td><td>null</td><td>null</td><td>null</td><td>null</td></tr></tbody></table></div>"
      ],
      "text/plain": [
       "shape: (4_001, 9)\n",
       "┌──────┬───────────┬───────────┬───────────┬───┬───────────┬───────────┬───────────┬─────────┐\n",
       "│ A_id ┆ Size      ┆ Weight    ┆ Sweetness ┆ … ┆ Juiciness ┆ Ripeness  ┆ Acidity   ┆ Quality │\n",
       "│ ---  ┆ ---       ┆ ---       ┆ ---       ┆   ┆ ---       ┆ ---       ┆ ---       ┆ ---     │\n",
       "│ i64  ┆ f64       ┆ f64       ┆ f64       ┆   ┆ f64       ┆ f64       ┆ f64       ┆ str     │\n",
       "╞══════╪═══════════╪═══════════╪═══════════╪═══╪═══════════╪═══════════╪═══════════╪═════════╡\n",
       "│ 0    ┆ -3.970049 ┆ -2.512336 ┆ 5.34633   ┆ … ┆ 1.8449    ┆ 0.32984   ┆ -0.49159  ┆ good    │\n",
       "│ 1    ┆ -1.195217 ┆ -2.839257 ┆ 3.664059  ┆ … ┆ 0.853286  ┆ 0.86753   ┆ -0.722809 ┆ good    │\n",
       "│ 2    ┆ -0.292024 ┆ -1.351282 ┆ -1.738429 ┆ … ┆ 2.838636  ┆ -0.038033 ┆ 2.621636  ┆ bad     │\n",
       "│ 3    ┆ -0.657196 ┆ -2.271627 ┆ 1.324874  ┆ … ┆ 3.63797   ┆ -3.413761 ┆ 0.790723  ┆ good    │\n",
       "│ 4    ┆ 1.364217  ┆ -1.296612 ┆ -0.384658 ┆ … ┆ 3.030874  ┆ -1.303849 ┆ 0.501984  ┆ good    │\n",
       "│ …    ┆ …         ┆ …         ┆ …         ┆ … ┆ …         ┆ …         ┆ …         ┆ …       │\n",
       "│ 3996 ┆ -0.293118 ┆ 1.949253  ┆ -0.20402  ┆ … ┆ 0.024523  ┆ -1.0879   ┆ 1.854235  ┆ good    │\n",
       "│ 3997 ┆ -2.634515 ┆ -2.138247 ┆ -2.440461 ┆ … ┆ 2.199709  ┆ 4.763859  ┆ -1.334611 ┆ bad     │\n",
       "│ 3998 ┆ -4.008004 ┆ -1.779337 ┆ 2.366397  ┆ … ┆ 2.161435  ┆ 0.214488  ┆ -2.22972  ┆ good    │\n",
       "│ 3999 ┆ 0.27854   ┆ -1.715505 ┆ 0.121217  ┆ … ┆ 1.2666774 ┆ -0.776571 ┆ 1.599796  ┆ good    │\n",
       "│ null ┆ null      ┆ null      ┆ null      ┆ … ┆ null      ┆ null      ┆ null      ┆ null    │\n",
       "└──────┴───────────┴───────────┴───────────┴───┴───────────┴───────────┴───────────┴─────────┘"
      ]
     },
     "execution_count": 32,
     "metadata": {},
     "output_type": "execute_result"
    }
   ],
   "source": [
    "## SORT DATA\n",
    "sorted_data = df.sort(['Weight','Crunchiness'],descending=[True,False])\n",
    "sorted_data\n",
    "df.filter(df['Weight'].is_unique())"
   ]
  },
  {
   "cell_type": "code",
   "execution_count": 33,
   "metadata": {},
   "outputs": [
    {
     "data": {
      "text/html": [
       "<div><style>\n",
       ".dataframe > thead > tr,\n",
       ".dataframe > tbody > tr {\n",
       "  text-align: right;\n",
       "  white-space: pre-wrap;\n",
       "}\n",
       "</style>\n",
       "<small>shape: (4_001, 9)</small><table border=\"1\" class=\"dataframe\"><thead><tr><th>A_id</th><th>Size</th><th>Weight</th><th>Sweetness</th><th>Crunchiness</th><th>Juiciness</th><th>Ripeness</th><th>Acidity</th><th>Quality</th></tr><tr><td>i64</td><td>f64</td><td>f64</td><td>f64</td><td>f64</td><td>f64</td><td>f64</td><td>f64</td><td>str</td></tr></thead><tbody><tr><td>0</td><td>-3.970049</td><td>-2.512336</td><td>5.34633</td><td>-1.012009</td><td>1.8449</td><td>0.32984</td><td>-0.49159</td><td>&quot;good&quot;</td></tr><tr><td>1</td><td>-1.195217</td><td>-2.839257</td><td>3.664059</td><td>1.588232</td><td>0.853286</td><td>0.86753</td><td>-0.722809</td><td>&quot;good&quot;</td></tr><tr><td>2</td><td>-0.292024</td><td>-1.351282</td><td>-1.738429</td><td>-0.342616</td><td>2.838636</td><td>-0.038033</td><td>2.621636</td><td>&quot;bad&quot;</td></tr><tr><td>3</td><td>-0.657196</td><td>-2.271627</td><td>1.324874</td><td>-0.097875</td><td>3.63797</td><td>-3.413761</td><td>0.790723</td><td>&quot;good&quot;</td></tr><tr><td>4</td><td>1.364217</td><td>-1.296612</td><td>-0.384658</td><td>-0.553006</td><td>3.030874</td><td>-1.303849</td><td>0.501984</td><td>&quot;good&quot;</td></tr><tr><td>5</td><td>-3.4254</td><td>-1.409082</td><td>-1.913511</td><td>-0.555775</td><td>-3.853071</td><td>1.914616</td><td>-2.981523</td><td>&quot;bad&quot;</td></tr><tr><td>6</td><td>1.331606</td><td>1.635956</td><td>0.875974</td><td>-1.677798</td><td>3.106344</td><td>-1.847417</td><td>2.414171</td><td>&quot;good&quot;</td></tr><tr><td>7</td><td>-1.995462</td><td>-0.428958</td><td>1.530644</td><td>-0.742972</td><td>0.158834</td><td>0.974438</td><td>-1.470125</td><td>&quot;good&quot;</td></tr><tr><td>8</td><td>-3.867632</td><td>-3.734514</td><td>0.986429</td><td>-1.207655</td><td>2.292873</td><td>4.080921</td><td>-4.871905</td><td>&quot;bad&quot;</td></tr><tr><td>9</td><td>-0.727983</td><td>-0.44282</td><td>-4.092223</td><td>0.597513</td><td>0.393714</td><td>1.620857</td><td>2.185608</td><td>&quot;bad&quot;</td></tr><tr><td>10</td><td>-2.699336</td><td>-1.329507</td><td>-1.418507</td><td>-0.625546</td><td>2.371074</td><td>3.403165</td><td>-2.810808</td><td>&quot;bad&quot;</td></tr><tr><td>11</td><td>2.45096</td><td>-0.564177</td><td>-1.635041</td><td>0.9424</td><td>-2.087317</td><td>1.214322</td><td>1.294324</td><td>&quot;good&quot;</td></tr><tr><td>&hellip;</td><td>&hellip;</td><td>&hellip;</td><td>&hellip;</td><td>&hellip;</td><td>&hellip;</td><td>&hellip;</td><td>&hellip;</td><td>&hellip;</td></tr><tr><td>3989</td><td>-2.282625</td><td>-0.225517</td><td>-1.698524</td><td>0.936855</td><td>-1.385481</td><td>3.249894</td><td>1.047021</td><td>&quot;bad&quot;</td></tr><tr><td>3990</td><td>-1.396794</td><td>-0.599596</td><td>-1.931104</td><td>1.815668</td><td>1.670732</td><td>1.614027</td><td>-0.987968</td><td>&quot;bad&quot;</td></tr><tr><td>3991</td><td>-4.007762</td><td>2.970164</td><td>0.218167</td><td>-0.492369</td><td>1.656375</td><td>-2.133895</td><td>-4.431321</td><td>&quot;good&quot;</td></tr><tr><td>3992</td><td>1.764253</td><td>-2.079695</td><td>-0.083383</td><td>-0.086724</td><td>-1.703385</td><td>3.840101</td><td>-0.338261</td><td>&quot;good&quot;</td></tr><tr><td>3993</td><td>1.520142</td><td>-0.352623</td><td>-3.206467</td><td>1.341719</td><td>0.675568</td><td>0.107093</td><td>-0.94508</td><td>&quot;bad&quot;</td></tr><tr><td>3994</td><td>1.482508</td><td>-2.581181</td><td>-0.306888</td><td>1.527877</td><td>1.056361</td><td>2.560829</td><td>-1.229255</td><td>&quot;good&quot;</td></tr><tr><td>3995</td><td>0.059386</td><td>-1.067408</td><td>-3.714549</td><td>0.473052</td><td>1.697986</td><td>2.244055</td><td>0.137784</td><td>&quot;bad&quot;</td></tr><tr><td>3996</td><td>-0.293118</td><td>1.949253</td><td>-0.20402</td><td>-0.640196</td><td>0.024523</td><td>-1.0879</td><td>1.854235</td><td>&quot;good&quot;</td></tr><tr><td>3997</td><td>-2.634515</td><td>-2.138247</td><td>-2.440461</td><td>0.657223</td><td>2.199709</td><td>4.763859</td><td>-1.334611</td><td>&quot;bad&quot;</td></tr><tr><td>3998</td><td>-4.008004</td><td>-1.779337</td><td>2.366397</td><td>-0.200329</td><td>2.161435</td><td>0.214488</td><td>-2.22972</td><td>&quot;good&quot;</td></tr><tr><td>3999</td><td>0.27854</td><td>-1.715505</td><td>0.121217</td><td>-1.154075</td><td>1.2666774</td><td>-0.776571</td><td>1.599796</td><td>&quot;good&quot;</td></tr><tr><td>null</td><td>null</td><td>null</td><td>null</td><td>null</td><td>null</td><td>null</td><td>null</td><td>null</td></tr></tbody></table></div>"
      ],
      "text/plain": [
       "shape: (4_001, 9)\n",
       "┌──────┬───────────┬───────────┬───────────┬───┬───────────┬───────────┬───────────┬─────────┐\n",
       "│ A_id ┆ Size      ┆ Weight    ┆ Sweetness ┆ … ┆ Juiciness ┆ Ripeness  ┆ Acidity   ┆ Quality │\n",
       "│ ---  ┆ ---       ┆ ---       ┆ ---       ┆   ┆ ---       ┆ ---       ┆ ---       ┆ ---     │\n",
       "│ i64  ┆ f64       ┆ f64       ┆ f64       ┆   ┆ f64       ┆ f64       ┆ f64       ┆ str     │\n",
       "╞══════╪═══════════╪═══════════╪═══════════╪═══╪═══════════╪═══════════╪═══════════╪═════════╡\n",
       "│ 0    ┆ -3.970049 ┆ -2.512336 ┆ 5.34633   ┆ … ┆ 1.8449    ┆ 0.32984   ┆ -0.49159  ┆ good    │\n",
       "│ 1    ┆ -1.195217 ┆ -2.839257 ┆ 3.664059  ┆ … ┆ 0.853286  ┆ 0.86753   ┆ -0.722809 ┆ good    │\n",
       "│ 2    ┆ -0.292024 ┆ -1.351282 ┆ -1.738429 ┆ … ┆ 2.838636  ┆ -0.038033 ┆ 2.621636  ┆ bad     │\n",
       "│ 3    ┆ -0.657196 ┆ -2.271627 ┆ 1.324874  ┆ … ┆ 3.63797   ┆ -3.413761 ┆ 0.790723  ┆ good    │\n",
       "│ 4    ┆ 1.364217  ┆ -1.296612 ┆ -0.384658 ┆ … ┆ 3.030874  ┆ -1.303849 ┆ 0.501984  ┆ good    │\n",
       "│ …    ┆ …         ┆ …         ┆ …         ┆ … ┆ …         ┆ …         ┆ …         ┆ …       │\n",
       "│ 3996 ┆ -0.293118 ┆ 1.949253  ┆ -0.20402  ┆ … ┆ 0.024523  ┆ -1.0879   ┆ 1.854235  ┆ good    │\n",
       "│ 3997 ┆ -2.634515 ┆ -2.138247 ┆ -2.440461 ┆ … ┆ 2.199709  ┆ 4.763859  ┆ -1.334611 ┆ bad     │\n",
       "│ 3998 ┆ -4.008004 ┆ -1.779337 ┆ 2.366397  ┆ … ┆ 2.161435  ┆ 0.214488  ┆ -2.22972  ┆ good    │\n",
       "│ 3999 ┆ 0.27854   ┆ -1.715505 ┆ 0.121217  ┆ … ┆ 1.2666774 ┆ -0.776571 ┆ 1.599796  ┆ good    │\n",
       "│ null ┆ null      ┆ null      ┆ null      ┆ … ┆ null      ┆ null      ┆ null      ┆ null    │\n",
       "└──────┴───────────┴───────────┴───────────┴───┴───────────┴───────────┴───────────┴─────────┘"
      ]
     },
     "execution_count": 33,
     "metadata": {},
     "output_type": "execute_result"
    }
   ],
   "source": [
    "## HANDLING MISSING DATA\n",
    "\n",
    "# drop null rows\n",
    "df.drop_nulls()\n",
    "# Replace null with a value\n",
    "df.fill_null(5555)\n",
    "# Other ll strategies are \"backward\", \"min\", \"max\", \"mean\", \"zero\" and \"one\"\n",
    "df.fill_null(strategy='zero')\n",
    "\n",
    "# Filling NaN by given value (NaN: Not a Number)\n",
    "df.fill_nan(55)"
   ]
  },
  {
   "cell_type": "markdown",
   "metadata": {},
   "source": [
    "<h1> Reshaping data, CONCAT, MERGING TABLE, COLUMNS <h1>"
   ]
  },
  {
   "cell_type": "code",
   "execution_count": 34,
   "metadata": {},
   "outputs": [
    {
     "name": "stdout",
     "output_type": "stream",
     "text": [
      "shape: (3, 4)\n",
      "┌─────┬─────┬─────┬───────┐\n",
      "│ foo ┆ bar ┆ ham ┆ apple │\n",
      "│ --- ┆ --- ┆ --- ┆ ---   │\n",
      "│ i64 ┆ i64 ┆ str ┆ i64   │\n",
      "╞═════╪═════╪═════╪═══════╡\n",
      "│ 1   ┆ 6   ┆ a   ┆ 10    │\n",
      "│ 2   ┆ 7   ┆ b   ┆ 20    │\n",
      "│ 3   ┆ 8   ┆ c   ┆ 30    │\n",
      "└─────┴─────┴─────┴───────┘\n",
      "shape: (4, 3)\n",
      "┌─────┬─────┬─────┐\n",
      "│ foo ┆ bar ┆ ham │\n",
      "│ --- ┆ --- ┆ --- │\n",
      "│ i64 ┆ i64 ┆ str │\n",
      "╞═════╪═════╪═════╡\n",
      "│ 1   ┆ 6   ┆ a   │\n",
      "│ 2   ┆ 7   ┆ b   │\n",
      "│ 3   ┆ 8   ┆ c   │\n",
      "│ 4   ┆ 9   ┆ d   │\n",
      "└─────┴─────┴─────┘\n"
     ]
    },
    {
     "data": {
      "text/html": [
       "<div><style>\n",
       ".dataframe > thead > tr,\n",
       ".dataframe > tbody > tr {\n",
       "  text-align: right;\n",
       "  white-space: pre-wrap;\n",
       "}\n",
       "</style>\n",
       "<small>shape: (1, 3)</small><table border=\"1\" class=\"dataframe\"><thead><tr><th>foo</th><th>bar</th><th>ham</th></tr><tr><td>i64</td><td>i64</td><td>str</td></tr></thead><tbody><tr><td>7</td><td>17</td><td>null</td></tr></tbody></table></div>"
      ],
      "text/plain": [
       "shape: (1, 3)\n",
       "┌─────┬─────┬──────┐\n",
       "│ foo ┆ bar ┆ ham  │\n",
       "│ --- ┆ --- ┆ ---  │\n",
       "│ i64 ┆ i64 ┆ str  │\n",
       "╞═════╪═════╪══════╡\n",
       "│ 7   ┆ 17  ┆ null │\n",
       "└─────┴─────┴──────┘"
      ]
     },
     "execution_count": 34,
     "metadata": {},
     "output_type": "execute_result"
    }
   ],
   "source": [
    "# Merging DataFrames Combining multiple DataFrames\n",
    "dff = pl.DataFrame(\n",
    "    {\n",
    "        \"foo\": [1, 2, 3],\n",
    "        \"bar\": [6, 7, 8],\n",
    "        \"ham\": [\"a\", \"b\", \"c\"],\n",
    "    }\n",
    ")\n",
    "x = pl.Series(\"apple\", [10, 20, 30])\n",
    "print(dff.hstack([x]))\n",
    "\n",
    "\n",
    "dff1 = pl.DataFrame(\n",
    "    {\n",
    "        \"foo\": [1, 2],\n",
    "        \"bar\": [6, 7],\n",
    "        \"ham\": [\"a\", \"b\"],\n",
    "    }\n",
    ")\n",
    "dff2 = pl.DataFrame(\n",
    "    {\n",
    "        \"foo\": [3, 4],\n",
    "        \"bar\": [8, 9],\n",
    "        \"ham\": [\"c\", \"d\"],\n",
    "    }\n",
    ")\n",
    "print(dff1.vstack(dff2))\n",
    "dff2.select(pl.all().sum())"
   ]
  },
  {
   "cell_type": "code",
   "execution_count": 35,
   "metadata": {},
   "outputs": [
    {
     "data": {
      "text/html": [
       "<div><style>\n",
       ".dataframe > thead > tr,\n",
       ".dataframe > tbody > tr {\n",
       "  text-align: right;\n",
       "  white-space: pre-wrap;\n",
       "}\n",
       "</style>\n",
       "<small>shape: (3, 4)</small><table border=\"1\" class=\"dataframe\"><thead><tr><th>foo</th><th>bar</th><th>ham</th><th>apple</th></tr><tr><td>i64</td><td>i64</td><td>str</td><td>i64</td></tr></thead><tbody><tr><td>1</td><td>6</td><td>&quot;a&quot;</td><td>10</td></tr><tr><td>2</td><td>7</td><td>&quot;b&quot;</td><td>20</td></tr><tr><td>3</td><td>8</td><td>&quot;c&quot;</td><td>30</td></tr></tbody></table></div>"
      ],
      "text/plain": [
       "shape: (3, 4)\n",
       "┌─────┬─────┬─────┬───────┐\n",
       "│ foo ┆ bar ┆ ham ┆ apple │\n",
       "│ --- ┆ --- ┆ --- ┆ ---   │\n",
       "│ i64 ┆ i64 ┆ str ┆ i64   │\n",
       "╞═════╪═════╪═════╪═══════╡\n",
       "│ 1   ┆ 6   ┆ a   ┆ 10    │\n",
       "│ 2   ┆ 7   ┆ b   ┆ 20    │\n",
       "│ 3   ┆ 8   ┆ c   ┆ 30    │\n",
       "└─────┴─────┴─────┴───────┘"
      ]
     },
     "execution_count": 35,
     "metadata": {},
     "output_type": "execute_result"
    }
   ],
   "source": [
    "#  Append columns of DataFrames\n",
    "pl.concat([dff,pl.DataFrame(x)],how = 'horizontal')"
   ]
  },
  {
   "cell_type": "code",
   "execution_count": 36,
   "metadata": {},
   "outputs": [
    {
     "data": {
      "text/html": [
       "<div><style>\n",
       ".dataframe > thead > tr,\n",
       ".dataframe > tbody > tr {\n",
       "  text-align: right;\n",
       "  white-space: pre-wrap;\n",
       "}\n",
       "</style>\n",
       "<small>shape: (4, 3)</small><table border=\"1\" class=\"dataframe\"><thead><tr><th>foo</th><th>bar</th><th>ham</th></tr><tr><td>i64</td><td>i64</td><td>str</td></tr></thead><tbody><tr><td>1</td><td>6</td><td>&quot;a&quot;</td></tr><tr><td>2</td><td>7</td><td>&quot;b&quot;</td></tr><tr><td>3</td><td>8</td><td>&quot;c&quot;</td></tr><tr><td>4</td><td>9</td><td>&quot;d&quot;</td></tr></tbody></table></div>"
      ],
      "text/plain": [
       "shape: (4, 3)\n",
       "┌─────┬─────┬─────┐\n",
       "│ foo ┆ bar ┆ ham │\n",
       "│ --- ┆ --- ┆ --- │\n",
       "│ i64 ┆ i64 ┆ str │\n",
       "╞═════╪═════╪═════╡\n",
       "│ 1   ┆ 6   ┆ a   │\n",
       "│ 2   ┆ 7   ┆ b   │\n",
       "│ 3   ┆ 8   ┆ c   │\n",
       "│ 4   ┆ 9   ┆ d   │\n",
       "└─────┴─────┴─────┘"
      ]
     },
     "execution_count": 36,
     "metadata": {},
     "output_type": "execute_result"
    }
   ],
   "source": [
    "# Append rows of DataFrame\n",
    "pl.concat([dff1,dff2])"
   ]
  },
  {
   "cell_type": "markdown",
   "metadata": {},
   "source": [
    "<h1> Summarize Data <h1>"
   ]
  },
  {
   "cell_type": "code",
   "execution_count": 37,
   "metadata": {},
   "outputs": [
    {
     "data": {
      "text/plain": [
       "OrderedDict([('A_id', Int64),\n",
       "             ('Size', Float64),\n",
       "             ('Weight', Float64),\n",
       "             ('Sweetness', Float64),\n",
       "             ('Crunchiness', Float64),\n",
       "             ('Juiciness', Float64),\n",
       "             ('Ripeness', Float64),\n",
       "             ('Acidity', Float64),\n",
       "             ('Quality', String)])"
      ]
     },
     "execution_count": 37,
     "metadata": {},
     "output_type": "execute_result"
    }
   ],
   "source": [
    "df.schema"
   ]
  },
  {
   "cell_type": "code",
   "execution_count": 38,
   "metadata": {},
   "outputs": [
    {
     "data": {
      "text/html": [
       "<div><style>\n",
       ".dataframe > thead > tr,\n",
       ".dataframe > tbody > tr {\n",
       "  text-align: right;\n",
       "  white-space: pre-wrap;\n",
       "}\n",
       "</style>\n",
       "<small>shape: (9, 10)</small><table border=\"1\" class=\"dataframe\"><thead><tr><th>statistic</th><th>A_id</th><th>Size</th><th>Weight</th><th>Sweetness</th><th>Crunchiness</th><th>Juiciness</th><th>Ripeness</th><th>Acidity</th><th>Quality</th></tr><tr><td>str</td><td>f64</td><td>f64</td><td>f64</td><td>f64</td><td>f64</td><td>f64</td><td>f64</td><td>f64</td><td>str</td></tr></thead><tbody><tr><td>&quot;count&quot;</td><td>4000.0</td><td>4000.0</td><td>4000.0</td><td>4000.0</td><td>4000.0</td><td>4000.0</td><td>4000.0</td><td>4000.0</td><td>&quot;4000&quot;</td></tr><tr><td>&quot;null_count&quot;</td><td>1.0</td><td>1.0</td><td>1.0</td><td>1.0</td><td>1.0</td><td>1.0</td><td>1.0</td><td>1.0</td><td>&quot;1&quot;</td></tr><tr><td>&quot;mean&quot;</td><td>1999.5</td><td>-0.503015</td><td>-0.989547</td><td>-0.470479</td><td>0.985478</td><td>0.512118</td><td>0.498277</td><td>0.076877</td><td>null</td></tr><tr><td>&quot;std&quot;</td><td>1154.844867</td><td>1.928059</td><td>1.602507</td><td>1.943441</td><td>1.402757</td><td>1.930286</td><td>1.874427</td><td>2.11027</td><td>null</td></tr><tr><td>&quot;min&quot;</td><td>0.0</td><td>-7.151703</td><td>-7.149848</td><td>-6.894485</td><td>-6.055058</td><td>-5.961897</td><td>-5.864599</td><td>-7.010538</td><td>&quot;bad&quot;</td></tr><tr><td>&quot;25%&quot;</td><td>1000.0</td><td>-1.816202</td><td>-2.011767</td><td>-1.738424</td><td>0.062865</td><td>-0.801238</td><td>-0.77097</td><td>-1.377338</td><td>null</td></tr><tr><td>&quot;50%&quot;</td><td>2000.0</td><td>-0.513569</td><td>-0.984489</td><td>-0.504307</td><td>0.998566</td><td>0.534934</td><td>0.504153</td><td>0.022797</td><td>null</td></tr><tr><td>&quot;75%&quot;</td><td>2999.0</td><td>0.805329</td><td>0.029773</td><td>0.80181</td><td>1.893586</td><td>1.835903</td><td>1.765281</td><td>1.510439</td><td>null</td></tr><tr><td>&quot;max&quot;</td><td>3999.0</td><td>6.406367</td><td>5.790714</td><td>6.374916</td><td>7.619852</td><td>7.364403</td><td>7.237837</td><td>7.404736</td><td>&quot;good&quot;</td></tr></tbody></table></div>"
      ],
      "text/plain": [
       "shape: (9, 10)\n",
       "┌────────────┬───────────┬───────────┬───────────┬───┬───────────┬───────────┬───────────┬─────────┐\n",
       "│ statistic  ┆ A_id      ┆ Size      ┆ Weight    ┆ … ┆ Juiciness ┆ Ripeness  ┆ Acidity   ┆ Quality │\n",
       "│ ---        ┆ ---       ┆ ---       ┆ ---       ┆   ┆ ---       ┆ ---       ┆ ---       ┆ ---     │\n",
       "│ str        ┆ f64       ┆ f64       ┆ f64       ┆   ┆ f64       ┆ f64       ┆ f64       ┆ str     │\n",
       "╞════════════╪═══════════╪═══════════╪═══════════╪═══╪═══════════╪═══════════╪═══════════╪═════════╡\n",
       "│ count      ┆ 4000.0    ┆ 4000.0    ┆ 4000.0    ┆ … ┆ 4000.0    ┆ 4000.0    ┆ 4000.0    ┆ 4000    │\n",
       "│ null_count ┆ 1.0       ┆ 1.0       ┆ 1.0       ┆ … ┆ 1.0       ┆ 1.0       ┆ 1.0       ┆ 1       │\n",
       "│ mean       ┆ 1999.5    ┆ -0.503015 ┆ -0.989547 ┆ … ┆ 0.512118  ┆ 0.498277  ┆ 0.076877  ┆ null    │\n",
       "│ std        ┆ 1154.8448 ┆ 1.928059  ┆ 1.602507  ┆ … ┆ 1.930286  ┆ 1.874427  ┆ 2.11027   ┆ null    │\n",
       "│            ┆ 67        ┆           ┆           ┆   ┆           ┆           ┆           ┆         │\n",
       "│ min        ┆ 0.0       ┆ -7.151703 ┆ -7.149848 ┆ … ┆ -5.961897 ┆ -5.864599 ┆ -7.010538 ┆ bad     │\n",
       "│ 25%        ┆ 1000.0    ┆ -1.816202 ┆ -2.011767 ┆ … ┆ -0.801238 ┆ -0.77097  ┆ -1.377338 ┆ null    │\n",
       "│ 50%        ┆ 2000.0    ┆ -0.513569 ┆ -0.984489 ┆ … ┆ 0.534934  ┆ 0.504153  ┆ 0.022797  ┆ null    │\n",
       "│ 75%        ┆ 2999.0    ┆ 0.805329  ┆ 0.029773  ┆ … ┆ 1.835903  ┆ 1.765281  ┆ 1.510439  ┆ null    │\n",
       "│ max        ┆ 3999.0    ┆ 6.406367  ┆ 5.790714  ┆ … ┆ 7.364403  ┆ 7.237837  ┆ 7.404736  ┆ good    │\n",
       "└────────────┴───────────┴───────────┴───────────┴───┴───────────┴───────────┴───────────┴─────────┘"
      ]
     },
     "execution_count": 38,
     "metadata": {},
     "output_type": "execute_result"
    }
   ],
   "source": [
    "df.describe()"
   ]
  },
  {
   "cell_type": "code",
   "execution_count": 39,
   "metadata": {},
   "outputs": [
    {
     "data": {
      "text/plain": [
       "4001"
      ]
     },
     "execution_count": 39,
     "metadata": {},
     "output_type": "execute_result"
    }
   ],
   "source": [
    "len(df)\n",
    "df.height"
   ]
  },
  {
   "cell_type": "code",
   "execution_count": 40,
   "metadata": {},
   "outputs": [
    {
     "data": {
      "text/plain": [
       "(4001, 9)"
      ]
     },
     "execution_count": 40,
     "metadata": {},
     "output_type": "execute_result"
    }
   ],
   "source": [
    "df.shape"
   ]
  },
  {
   "cell_type": "code",
   "execution_count": 41,
   "metadata": {},
   "outputs": [
    {
     "data": {
      "text/html": [
       "<div><style>\n",
       ".dataframe > thead > tr,\n",
       ".dataframe > tbody > tr {\n",
       "  text-align: right;\n",
       "  white-space: pre-wrap;\n",
       "}\n",
       "</style>\n",
       "<small>shape: (3, 2)</small><table border=\"1\" class=\"dataframe\"><thead><tr><th>Quality</th><th>count</th></tr><tr><td>str</td><td>u32</td></tr></thead><tbody><tr><td>&quot;bad&quot;</td><td>1996</td></tr><tr><td>&quot;good&quot;</td><td>2004</td></tr><tr><td>null</td><td>1</td></tr></tbody></table></div>"
      ],
      "text/plain": [
       "shape: (3, 2)\n",
       "┌─────────┬───────┐\n",
       "│ Quality ┆ count │\n",
       "│ ---     ┆ ---   │\n",
       "│ str     ┆ u32   │\n",
       "╞═════════╪═══════╡\n",
       "│ bad     ┆ 1996  │\n",
       "│ good    ┆ 2004  │\n",
       "│ null    ┆ 1     │\n",
       "└─────────┴───────┘"
      ]
     },
     "execution_count": 41,
     "metadata": {},
     "output_type": "execute_result"
    }
   ],
   "source": [
    "# Count number of rows with each unique value of variable\n",
    "df['Quality'].value_counts()"
   ]
  },
  {
   "cell_type": "code",
   "execution_count": 42,
   "metadata": {},
   "outputs": [
    {
     "data": {
      "text/plain": [
       "3"
      ]
     },
     "execution_count": 42,
     "metadata": {},
     "output_type": "execute_result"
    }
   ],
   "source": [
    "# of distinct values in a column\n",
    "df['Quality'].n_unique()"
   ]
  },
  {
   "cell_type": "markdown",
   "metadata": {},
   "source": [
    "<h1> Join Table <h1>"
   ]
  },
  {
   "cell_type": "code",
   "execution_count": 43,
   "metadata": {},
   "outputs": [
    {
     "data": {
      "text/html": [
       "<div><style>\n",
       ".dataframe > thead > tr,\n",
       ".dataframe > tbody > tr {\n",
       "  text-align: right;\n",
       "  white-space: pre-wrap;\n",
       "}\n",
       "</style>\n",
       "<small>shape: (8, 4)</small><table border=\"1\" class=\"dataframe\"><thead><tr><th>a</th><th>b</th><th>d</th><th>y</th></tr><tr><td>i64</td><td>f64</td><td>f64</td><td>str</td></tr></thead><tbody><tr><td>0</td><td>0.337705</td><td>1.0</td><td>&quot;A&quot;</td></tr><tr><td>1</td><td>0.70982</td><td>2.0</td><td>&quot;A&quot;</td></tr><tr><td>2</td><td>0.161254</td><td>NaN</td><td>&quot;A&quot;</td></tr><tr><td>3</td><td>0.908013</td><td>NaN</td><td>&quot;B&quot;</td></tr><tr><td>4</td><td>0.804925</td><td>0.0</td><td>&quot;B&quot;</td></tr><tr><td>5</td><td>0.192835</td><td>-5.0</td><td>&quot;C&quot;</td></tr><tr><td>6</td><td>0.646597</td><td>-42.0</td><td>&quot;X&quot;</td></tr><tr><td>7</td><td>0.259107</td><td>null</td><td>&quot;X&quot;</td></tr></tbody></table></div>"
      ],
      "text/plain": [
       "shape: (8, 4)\n",
       "┌─────┬──────────┬───────┬─────┐\n",
       "│ a   ┆ b        ┆ d     ┆ y   │\n",
       "│ --- ┆ ---      ┆ ---   ┆ --- │\n",
       "│ i64 ┆ f64      ┆ f64   ┆ str │\n",
       "╞═════╪══════════╪═══════╪═════╡\n",
       "│ 0   ┆ 0.337705 ┆ 1.0   ┆ A   │\n",
       "│ 1   ┆ 0.70982  ┆ 2.0   ┆ A   │\n",
       "│ 2   ┆ 0.161254 ┆ NaN   ┆ A   │\n",
       "│ 3   ┆ 0.908013 ┆ NaN   ┆ B   │\n",
       "│ 4   ┆ 0.804925 ┆ 0.0   ┆ B   │\n",
       "│ 5   ┆ 0.192835 ┆ -5.0  ┆ C   │\n",
       "│ 6   ┆ 0.646597 ┆ -42.0 ┆ X   │\n",
       "│ 7   ┆ 0.259107 ┆ null  ┆ X   │\n",
       "└─────┴──────────┴───────┴─────┘"
      ]
     },
     "execution_count": 43,
     "metadata": {},
     "output_type": "execute_result"
    }
   ],
   "source": [
    "import numpy as np\n",
    "import polars as pl\n",
    "df_join = pl.DataFrame(\n",
    "    {\n",
    "        \"a\": range(8),\n",
    "        \"b\": np.random.rand(8),\n",
    "        \"d\": [1, 2.0, float(\"nan\"), float(\"nan\"), 0, -5, -42, None],\n",
    "    }\n",
    ")\n",
    "\n",
    "df_join2 = pl.DataFrame(\n",
    "    {\n",
    "        \"x\": range(8),\n",
    "        \"y\": [\"A\", \"A\", \"A\", \"B\", \"B\", \"C\", \"X\", \"X\"],\n",
    "    }\n",
    ")\n",
    "df_join3 = df_join.join(df_join2,left_on='a',right_on='x')\n",
    "df_join3"
   ]
  },
  {
   "cell_type": "code",
   "execution_count": 44,
   "metadata": {},
   "outputs": [
    {
     "data": {
      "text/html": [
       "<div><style>\n",
       ".dataframe > thead > tr,\n",
       ".dataframe > tbody > tr {\n",
       "  text-align: right;\n",
       "  white-space: pre-wrap;\n",
       "}\n",
       "</style>\n",
       "<small>shape: (4, 5)</small><table border=\"1\" class=\"dataframe\"><thead><tr><th>foo</th><th>bar</th><th>ham</th><th>apple</th><th>ham_right</th></tr><tr><td>i64</td><td>f64</td><td>str</td><td>str</td><td>str</td></tr></thead><tbody><tr><td>1</td><td>6.0</td><td>&quot;a&quot;</td><td>&quot;x&quot;</td><td>&quot;a&quot;</td></tr><tr><td>2</td><td>7.0</td><td>&quot;b&quot;</td><td>&quot;y&quot;</td><td>&quot;b&quot;</td></tr><tr><td>null</td><td>null</td><td>null</td><td>&quot;z&quot;</td><td>&quot;d&quot;</td></tr><tr><td>3</td><td>8.0</td><td>&quot;c&quot;</td><td>null</td><td>null</td></tr></tbody></table></div>"
      ],
      "text/plain": [
       "shape: (4, 5)\n",
       "┌──────┬──────┬──────┬───────┬───────────┐\n",
       "│ foo  ┆ bar  ┆ ham  ┆ apple ┆ ham_right │\n",
       "│ ---  ┆ ---  ┆ ---  ┆ ---   ┆ ---       │\n",
       "│ i64  ┆ f64  ┆ str  ┆ str   ┆ str       │\n",
       "╞══════╪══════╪══════╪═══════╪═══════════╡\n",
       "│ 1    ┆ 6.0  ┆ a    ┆ x     ┆ a         │\n",
       "│ 2    ┆ 7.0  ┆ b    ┆ y     ┆ b         │\n",
       "│ null ┆ null ┆ null ┆ z     ┆ d         │\n",
       "│ 3    ┆ 8.0  ┆ c    ┆ null  ┆ null      │\n",
       "└──────┴──────┴──────┴───────┴───────────┘"
      ]
     },
     "execution_count": 44,
     "metadata": {},
     "output_type": "execute_result"
    }
   ],
   "source": [
    "d_join = pl.DataFrame(\n",
    "    {\n",
    "        \"foo\": [1, 2, 3],\n",
    "        \"bar\": [6.0, 7.0, 8.0],\n",
    "        \"ham\": [\"a\", \"b\", \"c\"],\n",
    "    }\n",
    ")\n",
    "other_join = pl.DataFrame(\n",
    "    {\n",
    "        \"apple\": [\"x\", \"y\", \"z\"],\n",
    "        \"ham\": [\"a\", \"b\", \"d\"],\n",
    "    }\n",
    ")\n",
    "join = d_join.join(other_join,on='ham',how = 'outer')\n",
    "join"
   ]
  },
  {
   "cell_type": "markdown",
   "metadata": {
    "notebookRunGroups": {
     "groupValue": ""
    }
   },
   "source": [
    "<h1> Truy vấn SQL dùng Polars <h1>"
   ]
  },
  {
   "cell_type": "code",
   "execution_count": 45,
   "metadata": {},
   "outputs": [
    {
     "data": {
      "text/html": [
       "<div><style>\n",
       ".dataframe > thead > tr,\n",
       ".dataframe > tbody > tr {\n",
       "  text-align: right;\n",
       "  white-space: pre-wrap;\n",
       "}\n",
       "</style>\n",
       "<small>shape: (3, 13)</small><table border=\"1\" class=\"dataframe\"><thead><tr><th>#</th><th>Name</th><th>Type 1</th><th>Type 2</th><th>Total</th><th>HP</th><th>Attack</th><th>Defense</th><th>Sp. Atk</th><th>Sp. Def</th><th>Speed</th><th>Generation</th><th>Legendary</th></tr><tr><td>i64</td><td>str</td><td>str</td><td>str</td><td>i64</td><td>i64</td><td>i64</td><td>i64</td><td>i64</td><td>i64</td><td>i64</td><td>i64</td><td>bool</td></tr></thead><tbody><tr><td>144</td><td>&quot;Articuno&quot;</td><td>&quot;Ice&quot;</td><td>&quot;Flying&quot;</td><td>580</td><td>90</td><td>85</td><td>100</td><td>95</td><td>125</td><td>85</td><td>1</td><td>true</td></tr><tr><td>50</td><td>&quot;Diglett&quot;</td><td>&quot;Ground&quot;</td><td>null</td><td>265</td><td>10</td><td>55</td><td>25</td><td>35</td><td>45</td><td>95</td><td>1</td><td>false</td></tr><tr><td>10</td><td>&quot;Caterpie&quot;</td><td>&quot;Bug&quot;</td><td>null</td><td>195</td><td>45</td><td>30</td><td>35</td><td>20</td><td>20</td><td>45</td><td>1</td><td>false</td></tr></tbody></table></div>"
      ],
      "text/plain": [
       "shape: (3, 13)\n",
       "┌─────┬──────────┬────────┬────────┬───┬─────────┬───────┬────────────┬───────────┐\n",
       "│ #   ┆ Name     ┆ Type 1 ┆ Type 2 ┆ … ┆ Sp. Def ┆ Speed ┆ Generation ┆ Legendary │\n",
       "│ --- ┆ ---      ┆ ---    ┆ ---    ┆   ┆ ---     ┆ ---   ┆ ---        ┆ ---       │\n",
       "│ i64 ┆ str      ┆ str    ┆ str    ┆   ┆ i64     ┆ i64   ┆ i64        ┆ bool      │\n",
       "╞═════╪══════════╪════════╪════════╪═══╪═════════╪═══════╪════════════╪═══════════╡\n",
       "│ 144 ┆ Articuno ┆ Ice    ┆ Flying ┆ … ┆ 125     ┆ 85    ┆ 1          ┆ true      │\n",
       "│ 50  ┆ Diglett  ┆ Ground ┆ null   ┆ … ┆ 45      ┆ 95    ┆ 1          ┆ false     │\n",
       "│ 10  ┆ Caterpie ┆ Bug    ┆ null   ┆ … ┆ 20      ┆ 45    ┆ 1          ┆ false     │\n",
       "└─────┴──────────┴────────┴────────┴───┴─────────┴───────┴────────────┴───────────┘"
      ]
     },
     "execution_count": 45,
     "metadata": {},
     "output_type": "execute_result"
    }
   ],
   "source": [
    "# ctx = pl.SQLContext()\n",
    "pokemon_data = pl.read_csv(\"https://gist.githubusercontent.com/ritchie46/cac6b337ea52281aa23c049250a4ff03/raw/89a957ff3919d90e6ef2d34235e6bf22304f3366/pokemon.csv\")\n",
    "pokemon_data.sample(3)"
   ]
  },
  {
   "cell_type": "code",
   "execution_count": 46,
   "metadata": {},
   "outputs": [
    {
     "data": {
      "text/html": [
       "<div><style>\n",
       ".dataframe > thead > tr,\n",
       ".dataframe > tbody > tr {\n",
       "  text-align: right;\n",
       "  white-space: pre-wrap;\n",
       "}\n",
       "</style>\n",
       "<small>shape: (3, 13)</small><table border=\"1\" class=\"dataframe\"><thead><tr><th>#</th><th>Name</th><th>Type 1</th><th>Type 2</th><th>Total</th><th>HP</th><th>Attack</th><th>Defense</th><th>Sp. Atk</th><th>Sp. Def</th><th>Speed</th><th>Generation</th><th>Legendary</th></tr><tr><td>i64</td><td>str</td><td>str</td><td>str</td><td>i64</td><td>i64</td><td>i64</td><td>i64</td><td>i64</td><td>i64</td><td>i64</td><td>i64</td><td>bool</td></tr></thead><tbody><tr><td>113</td><td>&quot;Chansey&quot;</td><td>&quot;Normal&quot;</td><td>null</td><td>450</td><td>250</td><td>5</td><td>5</td><td>35</td><td>105</td><td>50</td><td>1</td><td>false</td></tr><tr><td>143</td><td>&quot;Snorlax&quot;</td><td>&quot;Normal&quot;</td><td>null</td><td>540</td><td>160</td><td>110</td><td>65</td><td>65</td><td>110</td><td>30</td><td>1</td><td>false</td></tr><tr><td>40</td><td>&quot;Wigglytuff&quot;</td><td>&quot;Normal&quot;</td><td>&quot;Fairy&quot;</td><td>435</td><td>140</td><td>70</td><td>45</td><td>85</td><td>50</td><td>45</td><td>1</td><td>false</td></tr></tbody></table></div>"
      ],
      "text/plain": [
       "shape: (3, 13)\n",
       "┌─────┬────────────┬────────┬────────┬───┬─────────┬───────┬────────────┬───────────┐\n",
       "│ #   ┆ Name       ┆ Type 1 ┆ Type 2 ┆ … ┆ Sp. Def ┆ Speed ┆ Generation ┆ Legendary │\n",
       "│ --- ┆ ---        ┆ ---    ┆ ---    ┆   ┆ ---     ┆ ---   ┆ ---        ┆ ---       │\n",
       "│ i64 ┆ str        ┆ str    ┆ str    ┆   ┆ i64     ┆ i64   ┆ i64        ┆ bool      │\n",
       "╞═════╪════════════╪════════╪════════╪═══╪═════════╪═══════╪════════════╪═══════════╡\n",
       "│ 113 ┆ Chansey    ┆ Normal ┆ null   ┆ … ┆ 105     ┆ 50    ┆ 1          ┆ false     │\n",
       "│ 143 ┆ Snorlax    ┆ Normal ┆ null   ┆ … ┆ 110     ┆ 30    ┆ 1          ┆ false     │\n",
       "│ 40  ┆ Wigglytuff ┆ Normal ┆ Fairy  ┆ … ┆ 50      ┆ 45    ┆ 1          ┆ false     │\n",
       "└─────┴────────────┴────────┴────────┴───┴─────────┴───────┴────────────┴───────────┘"
      ]
     },
     "execution_count": 46,
     "metadata": {},
     "output_type": "execute_result"
    }
   ],
   "source": [
    "ctx = pl.SQLContext(register_globals=True,eager_execution=False)\n",
    "poke_small = ctx.execute(\n",
    "    '''\n",
    "    select *\n",
    "    from pokemon_data\n",
    "    where HP>115\n",
    "    order by HP desc\n",
    "    limit 3\n",
    "    '''\n",
    ")\n",
    "poke_small.collect()"
   ]
  }
 ],
 "metadata": {
  "kernelspec": {
   "display_name": "Python 3",
   "language": "python",
   "name": "python3"
  },
  "language_info": {
   "codemirror_mode": {
    "name": "ipython",
    "version": 3
   },
   "file_extension": ".py",
   "mimetype": "text/x-python",
   "name": "python",
   "nbconvert_exporter": "python",
   "pygments_lexer": "ipython3",
   "version": "3.8.0"
  }
 },
 "nbformat": 4,
 "nbformat_minor": 2
}
